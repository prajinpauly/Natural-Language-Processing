{
 "cells": [
  {
   "cell_type": "markdown",
   "id": "02edfb1e-af11-450f-a887-a99d1f6a2d6b",
   "metadata": {},
   "source": [
    "# Task One"
   ]
  },
  {
   "cell_type": "markdown",
   "id": "0df90e48-d6f0-4fcf-9509-7b78a238b7d8",
   "metadata": {},
   "source": [
    "## Thematic Analysis for Product Improvement\n",
    "Analyse the reviews to identify common themes.\n",
    "### Process\n",
    "• Identify recurring themes in the reviews and categorise them using the below two approaches.\n",
    "1. Analyse the most common or frequent words in the reviews to gain quick insights into\n",
    "frequent topics or concerns highlighted by the customers.\n",
    "2. Utilise topic modelling methodologies, such as Latent Dirichlet Allocation (LDA), which\n",
    "systematically identifies and classifies underlying topics within the textual content.\n",
    "• Evaluate both methodologies to determine the most suitable approach for this project, and\n",
    "justify the selection."
   ]
  },
  {
   "cell_type": "code",
   "execution_count": 1,
   "id": "b41f89fe-d700-4188-b5d8-2a7cd7b335c1",
   "metadata": {},
   "outputs": [],
   "source": [
    "import pandas as pd\n",
    "import numpy as np\n",
    "import matplotlib.pyplot as plt\n",
    "import seaborn as sns\n",
    "import nltk\n",
    "from nltk.corpus import stopwords\n",
    "from nltk.tokenize import word_tokenize\n",
    "from gensim.corpora import Dictionary\n",
    "from gensim.models import LdaModel\n",
    "from gensim.models import CoherenceModel\n",
    "from gensim.models.phrases import Phrases, Phraser\n",
    "from gensim import corpora\n",
    "from pprint import pprint"
   ]
  },
  {
   "cell_type": "code",
   "execution_count": 2,
   "id": "60da133c-9098-4adc-8623-ff9f1453d15d",
   "metadata": {},
   "outputs": [
    {
     "name": "stderr",
     "output_type": "stream",
     "text": [
      "[nltk_data] Downloading package punkt to C:\\Users\\Asus\n",
      "[nltk_data]     ExpertBook\\AppData\\Roaming\\nltk_data...\n",
      "[nltk_data]   Package punkt is already up-to-date!\n",
      "[nltk_data] Downloading package stopwords to C:\\Users\\Asus\n",
      "[nltk_data]     ExpertBook\\AppData\\Roaming\\nltk_data...\n",
      "[nltk_data]   Package stopwords is already up-to-date!\n"
     ]
    },
    {
     "data": {
      "text/plain": [
       "True"
      ]
     },
     "execution_count": 2,
     "metadata": {},
     "output_type": "execute_result"
    }
   ],
   "source": [
    "# Download NLTK resources\n",
    "nltk.download('punkt')\n",
    "nltk.download('stopwords')"
   ]
  },
  {
   "cell_type": "code",
   "execution_count": 3,
   "id": "4f0765e3-f612-401f-a8eb-36c8af063e07",
   "metadata": {},
   "outputs": [],
   "source": [
    "# Load dataset\n",
    "data = pd.read_csv('Amazon_Reviews_Dataset.csv')"
   ]
  },
  {
   "cell_type": "code",
   "execution_count": 5,
   "id": "b4a6d838-c1c0-41b2-b92e-966cdb5a3d95",
   "metadata": {},
   "outputs": [
    {
     "data": {
      "text/html": [
       "<div>\n",
       "<style scoped>\n",
       "    .dataframe tbody tr th:only-of-type {\n",
       "        vertical-align: middle;\n",
       "    }\n",
       "\n",
       "    .dataframe tbody tr th {\n",
       "        vertical-align: top;\n",
       "    }\n",
       "\n",
       "    .dataframe thead th {\n",
       "        text-align: right;\n",
       "    }\n",
       "</style>\n",
       "<table border=\"1\" class=\"dataframe\">\n",
       "  <thead>\n",
       "    <tr style=\"text-align: right;\">\n",
       "      <th></th>\n",
       "      <th>product name</th>\n",
       "      <th>ratings</th>\n",
       "      <th>reviews</th>\n",
       "      <th>date</th>\n",
       "    </tr>\n",
       "  </thead>\n",
       "  <tbody>\n",
       "    <tr>\n",
       "      <th>0</th>\n",
       "      <td>Nautica Voyage By Nautica For Men. Eau De Toil...</td>\n",
       "      <td>4</td>\n",
       "      <td>\\n\\n  This product exceeded my expectations! I...</td>\n",
       "      <td>July 13, 2018</td>\n",
       "    </tr>\n",
       "    <tr>\n",
       "      <th>1</th>\n",
       "      <td>Nautica Voyage By Nautica For Men. Eau De Toil...</td>\n",
       "      <td>5</td>\n",
       "      <td>\\n\\n  This is a terrible knock off.  When I ju...</td>\n",
       "      <td>June 27, 2018</td>\n",
       "    </tr>\n",
       "    <tr>\n",
       "      <th>2</th>\n",
       "      <td>Nautica Voyage By Nautica For Men. Eau De Toil...</td>\n",
       "      <td>1</td>\n",
       "      <td>\\n\\n  That's right, it smells kind of like a b...</td>\n",
       "      <td>October 5, 2017</td>\n",
       "    </tr>\n",
       "    <tr>\n",
       "      <th>3</th>\n",
       "      <td>Nautica Voyage By Nautica For Men. Eau De Toil...</td>\n",
       "      <td>5</td>\n",
       "      <td>\\n\\n  I was told by a friend this Cologne  sme...</td>\n",
       "      <td>November 24, 2015</td>\n",
       "    </tr>\n",
       "    <tr>\n",
       "      <th>4</th>\n",
       "      <td>Nautica Voyage By Nautica For Men. Eau De Toil...</td>\n",
       "      <td>1</td>\n",
       "      <td>\\n\\n  So originally i felt sketchy on ordering...</td>\n",
       "      <td>July 19, 2018</td>\n",
       "    </tr>\n",
       "    <tr>\n",
       "      <th>...</th>\n",
       "      <td>...</td>\n",
       "      <td>...</td>\n",
       "      <td>...</td>\n",
       "      <td>...</td>\n",
       "    </tr>\n",
       "    <tr>\n",
       "      <th>34995</th>\n",
       "      <td>Becoming</td>\n",
       "      <td>5</td>\n",
       "      <td>\\n\\n  My wife loved reading it.\\n\\n</td>\n",
       "      <td>26-Dec-18</td>\n",
       "    </tr>\n",
       "    <tr>\n",
       "      <th>34996</th>\n",
       "      <td>Becoming</td>\n",
       "      <td>5</td>\n",
       "      <td>\\n\\n  I don’t normally read autobiographies bu...</td>\n",
       "      <td>6-Apr-19</td>\n",
       "    </tr>\n",
       "    <tr>\n",
       "      <th>34997</th>\n",
       "      <td>Becoming</td>\n",
       "      <td>4</td>\n",
       "      <td>\\n\\n  I purchase this book for my mother, she ...</td>\n",
       "      <td>4-Jan-20</td>\n",
       "    </tr>\n",
       "    <tr>\n",
       "      <th>34998</th>\n",
       "      <td>Becoming</td>\n",
       "      <td>5</td>\n",
       "      <td>\\n\\n  So glad I purchased. What a wonderful hu...</td>\n",
       "      <td>27-Dec-18</td>\n",
       "    </tr>\n",
       "    <tr>\n",
       "      <th>34999</th>\n",
       "      <td>Becoming</td>\n",
       "      <td>5</td>\n",
       "      <td>\\n\\n  My Sister’s With Voices book club read t...</td>\n",
       "      <td>16-Mar-19</td>\n",
       "    </tr>\n",
       "  </tbody>\n",
       "</table>\n",
       "<p>35000 rows × 4 columns</p>\n",
       "</div>"
      ],
      "text/plain": [
       "                                            product name  ratings  \\\n",
       "0      Nautica Voyage By Nautica For Men. Eau De Toil...        4   \n",
       "1      Nautica Voyage By Nautica For Men. Eau De Toil...        5   \n",
       "2      Nautica Voyage By Nautica For Men. Eau De Toil...        1   \n",
       "3      Nautica Voyage By Nautica For Men. Eau De Toil...        5   \n",
       "4      Nautica Voyage By Nautica For Men. Eau De Toil...        1   \n",
       "...                                                  ...      ...   \n",
       "34995                                           Becoming        5   \n",
       "34996                                           Becoming        5   \n",
       "34997                                           Becoming        4   \n",
       "34998                                           Becoming        5   \n",
       "34999                                           Becoming        5   \n",
       "\n",
       "                                                 reviews               date  \n",
       "0      \\n\\n  This product exceeded my expectations! I...      July 13, 2018  \n",
       "1      \\n\\n  This is a terrible knock off.  When I ju...      June 27, 2018  \n",
       "2      \\n\\n  That's right, it smells kind of like a b...    October 5, 2017  \n",
       "3      \\n\\n  I was told by a friend this Cologne  sme...  November 24, 2015  \n",
       "4      \\n\\n  So originally i felt sketchy on ordering...      July 19, 2018  \n",
       "...                                                  ...                ...  \n",
       "34995                \\n\\n  My wife loved reading it.\\n\\n          26-Dec-18  \n",
       "34996  \\n\\n  I don’t normally read autobiographies bu...           6-Apr-19  \n",
       "34997  \\n\\n  I purchase this book for my mother, she ...           4-Jan-20  \n",
       "34998  \\n\\n  So glad I purchased. What a wonderful hu...          27-Dec-18  \n",
       "34999  \\n\\n  My Sister’s With Voices book club read t...          16-Mar-19  \n",
       "\n",
       "[35000 rows x 4 columns]"
      ]
     },
     "execution_count": 5,
     "metadata": {},
     "output_type": "execute_result"
    }
   ],
   "source": [
    "data\n"
   ]
  },
  {
   "cell_type": "code",
   "execution_count": 4,
   "id": "0a274344-89cf-4453-92d4-78bd8bd00a6e",
   "metadata": {},
   "outputs": [],
   "source": [
    "def preprocess_text(text_data):\n",
    "    \"\"\"\n",
    "    Preprocesses text data by converting to lowercase, removing stop words, and tokenizing the words.\n",
    "\n",
    "    Parameters:\n",
    "    - text_data: pandas Series containing text data to be preprocessed\n",
    "\n",
    "    Returns:\n",
    "    - preprocessed_text: list of preprocessed text documents\n",
    "    \"\"\"\n",
    "    stop_words = set(stopwords.words('english'))\n",
    "    preprocessed_text = text_data.apply(lambda x: ' '.join([word for word in word_tokenize(str(x).lower()) if word.isalnum() and word not in stop_words]))\n",
    "    return preprocessed_text"
   ]
  },
  {
   "cell_type": "code",
   "execution_count": 5,
   "id": "b85cc7ff-8dd0-4407-bda7-bc058847edff",
   "metadata": {},
   "outputs": [],
   "source": [
    "def perform_lda_analysis(text_data, num_topics=5):\n",
    "    \"\"\"\n",
    "    Performs LDA-based thematic analysis on text data.\n",
    "\n",
    "    Parameters:\n",
    "    - text_data: pandas Series containing preprocessed text data\n",
    "    - num_topics: number of topics for LDA model (default is 5)\n",
    "\n",
    "    Returns:\n",
    "    - lda_model: trained LDA model\n",
    "    - coherence_score: coherence score of the model\n",
    "    \"\"\"\n",
    "    # Tokenize words and build bigrams\n",
    "    documents = text_data.apply(word_tokenize)\n",
    "    bigram = Phrases(documents, min_count=5)\n",
    "    bigram_phraser = Phraser(bigram)\n",
    "    documents = [bigram_phraser[doc] for doc in documents]\n",
    "\n",
    "    # Create dictionary and corpus\n",
    "    dictionary = Dictionary(documents)\n",
    "    corpus = [dictionary.doc2bow(doc) for doc in documents]\n",
    "\n",
    "    # Build LDA model\n",
    "    lda_model = LdaModel(corpus=corpus, id2word=dictionary, num_topics=num_topics, passes=10, random_state=42)\n",
    "\n",
    "    # Print topics\n",
    "    pprint(lda_model.print_topics())\n",
    "\n",
    "    # Compute Coherence Score\n",
    "    coherence_model_lda = CoherenceModel(model=lda_model, texts=documents, dictionary=dictionary, coherence='c_v')\n",
    "    coherence_score = coherence_model_lda.get_coherence()\n",
    "\n",
    "    return lda_model, coherence_score"
   ]
  },
  {
   "cell_type": "code",
   "execution_count": 6,
   "id": "cb77c6d8-5cfb-4bd4-bb1a-7fcefb6576f2",
   "metadata": {},
   "outputs": [],
   "source": [
    "def visualize_topics(lda_model, num_topics=5):\n",
    "    \"\"\"\n",
    "    Visualizes the topics generated by the LDA model.\n",
    "\n",
    "    Parameters:\n",
    "    - lda_model: trained LDA model\n",
    "    - num_topics: number of topics (default is 5)\n",
    "    \"\"\"\n",
    "    topics = lda_model.show_topics(formatted=False)\n",
    "    fig, axes = plt.subplots(1, num_topics, figsize=(15, 5), sharex=True, sharey=True)\n",
    "    for i, (topic, ax) in enumerate(zip(topics, axes.flatten())):\n",
    "        topic_words = dict(topic[1])\n",
    "        sns.barplot(x=list(topic_words.values()), y=list(topic_words.keys()), ax=ax)\n",
    "        ax.set_title(f'Topic {i+1}')\n",
    "        ax.set_xlabel('Word Probability')\n",
    "    plt.tight_layout()\n",
    "    plt.show()"
   ]
  },
  {
   "cell_type": "code",
   "execution_count": 8,
   "id": "94da5b6e-7018-4eef-b24d-43b1cbfd79fa",
   "metadata": {},
   "outputs": [
    {
     "name": "stdout",
     "output_type": "stream",
     "text": [
      "Index(['product name', 'ratings', 'reviews', 'date'], dtype='object')\n"
     ]
    }
   ],
   "source": [
    "# Check column names\n",
    "print(data.columns)"
   ]
  },
  {
   "cell_type": "code",
   "execution_count": 9,
   "id": "705ce934-2cb4-4e0a-8e49-aeb15eaa5cf7",
   "metadata": {},
   "outputs": [],
   "source": [
    "preprocessed_text = preprocess_text(data['reviews'])"
   ]
  },
  {
   "cell_type": "code",
   "execution_count": 13,
   "id": "b0cdfff1-bd6f-4c18-b0fb-e5a78bc7d8a4",
   "metadata": {},
   "outputs": [],
   "source": [
    "# Tokenize words and build bigrams\n",
    "documents = preprocessed_text.apply(word_tokenize)\n",
    "bigram = Phrases(documents, min_count=5)\n",
    "bigram_phraser = Phraser(bigram)\n",
    "documents = [bigram_phraser[doc] for doc in documents]"
   ]
  },
  {
   "cell_type": "code",
   "execution_count": 14,
   "id": "00e9d4cf-8a1b-48df-b793-c9bc729419a2",
   "metadata": {},
   "outputs": [
    {
     "name": "stdout",
     "output_type": "stream",
     "text": [
      "Most common words: [('great', 7323), ('one', 6902), ('like', 5955), ('love', 5934), ('good', 5385), ('alexa', 4950), ('product', 4178), ('book', 4111), ('get', 3649), ('would', 3581)]\n"
     ]
    }
   ],
   "source": [
    "from collections import Counter\n",
    "\n",
    "# Analyze most common words\n",
    "word_counts = Counter([word for doc in documents for word in doc])\n",
    "most_common_words = word_counts.most_common(10)\n",
    "print(\"Most common words:\", most_common_words)"
   ]
  },
  {
   "cell_type": "code",
   "execution_count": 10,
   "id": "835e6425-e980-4ff0-9302-305876b58bfd",
   "metadata": {},
   "outputs": [
    {
     "name": "stdout",
     "output_type": "stream",
     "text": [
      "[(0,\n",
      "  '0.017*\"one\" + 0.015*\"product\" + 0.011*\"time\" + 0.010*\"great\" + '\n",
      "  '0.008*\"would\" + 0.008*\"amazon\" + 0.008*\"first\" + 0.007*\"get\" + 0.007*\"set\" '\n",
      "  '+ 0.007*\"got\"'),\n",
      " (1,\n",
      "  '0.020*\"alexa\" + 0.011*\"like\" + 0.010*\"one\" + 0.010*\"love\" + 0.009*\"use\" + '\n",
      "  '0.009*\"echo_dot\" + 0.008*\"also\" + 0.008*\"music\" + 0.007*\"loved\" + '\n",
      "  '0.007*\"echo\"'),\n",
      " (2,\n",
      "  '0.055*\"book\" + 0.025*\"read\" + 0.018*\"life\" + 0.018*\"michelle_obama\" + '\n",
      "  '0.015*\"michelle\" + 0.014*\"story\" + 0.012*\"family\" + 0.011*\"obama\" + '\n",
      "  '0.010*\"first_lady\" + 0.008*\"love\"'),\n",
      " (3,\n",
      "  '0.044*\"great\" + 0.041*\"good\" + 0.038*\"love\" + 0.032*\"product\" + '\n",
      "  '0.020*\"like\" + 0.018*\"taste\" + 0.018*\"price\" + 0.014*\"flavor\" + '\n",
      "  '0.011*\"drink\" + 0.010*\"bottle\"'),\n",
      " (4,\n",
      "  '0.010*\"good\" + 0.010*\"like\" + 0.009*\"nice\" + 0.008*\"would\" + 0.008*\"well\" + '\n",
      "  '0.007*\"masks\" + 0.007*\"one\" + 0.007*\"mask\" + 0.006*\"big\" + 0.006*\"great\"')]\n"
     ]
    }
   ],
   "source": [
    "# Perform LDA analysis\n",
    "lda_model, coherence_score = perform_lda_analysis(preprocessed_text)"
   ]
  },
  {
   "cell_type": "code",
   "execution_count": 11,
   "id": "5cbf2190-c78b-4a42-92ea-553f703bd390",
   "metadata": {},
   "outputs": [
    {
     "data": {
      "image/png": "[encoded data removed]",
      "text/plain": [
       "<Figure size 1500x500 with 5 Axes>"
      ]
     },
     "metadata": {},
     "output_type": "display_data"
    }
   ],
   "source": [
    "# Visualize topics\n",
    "visualize_topics(lda_model)"
   ]
  },
  {
   "cell_type": "markdown",
   "id": "081bcdb4-069e-4fca-891d-f2c6b0d3807e",
   "metadata": {},
   "source": [
    "# Task Two"
   ]
  },
  {
   "cell_type": "markdown",
   "id": "f90a4c4f-1d61-44a5-80d6-a8b72be2e641",
   "metadata": {},
   "source": [
    "## Sentiment Analysis\r\n",
    "Develop an NLP model to categorise reviews into sentiments.\r\n",
    "\r\n",
    "### Process\r\n",
    "\r\n",
    "- Preprocess the data, removing any irrelevant information or noise.\r\n",
    "- Train a sentiment analysis model using an appropriate NLP library.\r\n",
    "- Validate the model with a separate test set and document its performance.\r\n",
    "- Conduct a statistical analysis to present the distribution of sentiments (positive, negative, neutral) across various products and previously identified themes.\r\n",
    "- Examine the relationship between the customer ratings and the sentiments extracted through sentiment analysis to distinguish any patterns or discrepancies.repancies."
   ]
  },
  {
   "cell_type": "code",
   "execution_count": 1,
   "id": "7ddae8dd-9d76-4a72-8f79-dd960f5e0e30",
   "metadata": {},
   "outputs": [],
   "source": [
    "import pandas as pd\n",
    "import nltk\n",
    "from nltk.corpus import stopwords\n",
    "from nltk.stem import WordNetLemmatizer\n",
    "from nltk.tokenize import word_tokenize\n",
    "from sklearn.model_selection import train_test_split, GridSearchCV\n",
    "from sklearn.feature_extraction.text import TfidfVectorizer\n",
    "from sklearn.pipeline import make_pipeline\n",
    "from sklearn.svm import SVC\n",
    "from sklearn.ensemble import RandomForestClassifier\n",
    "from sklearn.metrics import classification_report, accuracy_score\n",
    "from sklearn.model_selection import train_test_split\n",
    "from sklearn.pipeline import make_pipeline\n",
    "from sklearn.ensemble import GradientBoostingClassifier\n",
    "from sklearn.linear_model import LogisticRegression"
   ]
  },
  {
   "cell_type": "code",
   "execution_count": 5,
   "id": "690df15b-27dc-48cb-9c7d-3549257b575a",
   "metadata": {},
   "outputs": [],
   "source": [
    "def preprocess_text(text):\n",
    "    \"\"\"\n",
    "    Preprocesses the text by removing stopwords, tokenizing, and converting to lowercase.\n",
    "\n",
    "    Parameters:\n",
    "    - text: str, input text to be preprocessed\n",
    "\n",
    "    Returns:\n",
    "    - clean_text: str, preprocessed text\n",
    "    \"\"\"\n",
    "    # Initialize lemmatizer and get the list of stopwords\n",
    "    lemmatizer = WordNetLemmatizer()\n",
    "    stop_words = set(stopwords.words('english'))\n",
    "    # Tokenize and preprocess (lemmatize) the text\n",
    "    tokens = word_tokenize(text.lower())\n",
    "    clean_text = ' '.join([lemmatizer.lemmatize(word) for word in tokens if word.isalnum() and word not in stop_words])\n",
    "    return clean_text\n"
   ]
  },
  {
   "cell_type": "code",
   "execution_count": 16,
   "id": "dc52ef83-31b5-46f6-b2bc-307a84b6bbbf",
   "metadata": {},
   "outputs": [],
   "source": [
    "def train_sentiment_analysis_model(X_train, y_train):\n",
    "    \"\"\"\n",
    "    Trains a sentiment analysis model using Support Vector Machine classifier.\n",
    "\n",
    "    Parameters:\n",
    "    - X_train: array-like, features for training\n",
    "    - y_train: array-like, target labels for training\n",
    "\n",
    "    Returns:\n",
    "    - model: trained sentiment analysis model\n",
    "    \"\"\"\n",
    "    model_pipeline = make_pipeline(TfidfVectorizer(), SVC(kernel='linear'))\n",
    "    model_pipeline.fit(X_train, y_train)\n",
    "    return model_pipeline"
   ]
  },
  {
   "cell_type": "code",
   "execution_count": 7,
   "id": "a1f2294e-c1e1-48c1-8b36-1190c4b54b06",
   "metadata": {},
   "outputs": [],
   "source": [
    "def validate_model(model, X_test, y_test):\n",
    "    \"\"\"\n",
    "    Validates the sentiment analysis model using a separate test set.\n",
    "\n",
    "    Parameters:\n",
    "    - model: trained sentiment analysis model\n",
    "    - X_test: array-like, features for testing\n",
    "    - y_test: array-like, target labels for testing\n",
    "\n",
    "    Returns:\n",
    "    - accuracy: float, accuracy score of the model\n",
    "    - classification_report: str, classification report of the model\n",
    "    \"\"\"\n",
    "    y_pred = model.predict(X_test)\n",
    "    accuracy = accuracy_score(y_test, y_pred)\n",
    "    report = classification_report(y_test, y_pred)\n",
    "    return accuracy, report"
   ]
  },
  {
   "cell_type": "code",
   "execution_count": 27,
   "id": "20442f5f-9cf5-46b3-b635-0d9a3e72f570",
   "metadata": {},
   "outputs": [],
   "source": [
    "def sentiment_analysis(review_text):\n",
    "    \"\"\"\n",
    "    Performs sentiment analysis on review text using the trained model.\n",
    "\n",
    "    Parameters:\n",
    "    - review_text: str, review text to analyze\n",
    "\n",
    "    Returns:\n",
    "    - sentiment: str, predicted sentiment label (e.g., 'very positive', 'positive', 'neutral', 'negative', 'very negative')\n",
    "    \"\"\"\n",
    "    # sentiment_labels = {0: 'very negative', 1: 'negative', 2: 'somewhat negative', 3: 'neutral', 4: 'positive', 5: 'very positive'}\n",
    "    cleaned_text = preprocess_text(review_text)\n",
    "    prediction = model_pipeline.predict([cleaned_text])[0]\n",
    "    return prediction # Return 'Unknown' if prediction is not in the sentiment_labels dictionary"
   ]
  },
  {
   "cell_type": "code",
   "execution_count": 18,
   "id": "9d0777d7-d630-4a24-b7e5-a007f070d83e",
   "metadata": {},
   "outputs": [],
   "source": [
    "def map_ratings_to_labels(rating):\n",
    "    \"\"\"\n",
    "    Maps numerical ratings to sentiment labels.\n",
    "\n",
    "    Parameters:\n",
    "    - rating: int, the numerical rating\n",
    "\n",
    "    Returns:\n",
    "    - label: str, the sentiment label\n",
    "    \"\"\"\n",
    "    if rating <= 2:\n",
    "        return 'negative'\n",
    "    elif rating == 3:\n",
    "        return 'neutral'\n",
    "    elif rating >= 4:\n",
    "        return 'positive'\n",
    "\n",
    "\n"
   ]
  },
  {
   "cell_type": "code",
   "execution_count": 10,
   "id": "61a2232b-d0a5-4527-a33c-663b8f6579f7",
   "metadata": {},
   "outputs": [],
   "source": [
    "# Load dataset\n",
    "data = pd.read_csv('Amazon_Reviews_Dataset.csv')"
   ]
  },
  {
   "cell_type": "code",
   "execution_count": 11,
   "id": "1c945111-a5e4-44b6-bd9d-d08ff59269e6",
   "metadata": {},
   "outputs": [],
   "source": [
    "# Preprocess text data\n",
    "data['clean_text'] = data['reviews'].apply(preprocess_text)\n"
   ]
  },
  {
   "cell_type": "code",
   "execution_count": 12,
   "id": "167d5688-d72b-4042-8a19-dc3f88c67359",
   "metadata": {},
   "outputs": [],
   "source": [
    "# Apply the mapping to your dataset\n",
    "data['sentiment_label'] = data['ratings'].apply(map_ratings_to_labels)"
   ]
  },
  {
   "cell_type": "code",
   "execution_count": 13,
   "id": "6ed39191-1d02-4e4b-ae93-d2026b75805e",
   "metadata": {},
   "outputs": [],
   "source": [
    "# Split data9iy76t3wq212w3 into train and test sets\n",
    "X_train, X_test, y_train, y_test = train_test_split(data['clean_text'], data['sentiment_label'], test_size=0.2, random_state=42)\n"
   ]
  },
  {
   "cell_type": "code",
   "execution_count": 19,
   "id": "02882625-d614-4db9-9e6e-9d3f48109c53",
   "metadata": {},
   "outputs": [],
   "source": [
    "# Train sentiment analysis model\n",
    "model_pipeline = train_sentiment_analysis_model(X_train, y_train)"
   ]
  },
  {
   "cell_type": "code",
   "execution_count": 20,
   "id": "88e9f0de-bb04-436a-acb8-add667964b74",
   "metadata": {},
   "outputs": [
    {
     "name": "stderr",
     "output_type": "stream",
     "text": [
      "C:\\Users\\Asus ExpertBook\\AppData\\Local\\Programs\\Python\\Python311\\Lib\\site-packages\\sklearn\\metrics\\_classification.py:1469: UndefinedMetricWarning: Precision and F-score are ill-defined and being set to 0.0 in labels with no predicted samples. Use `zero_division` parameter to control this behavior.\n",
      "  _warn_prf(average, modifier, msg_start, len(result))\n",
      "C:\\Users\\Asus ExpertBook\\AppData\\Local\\Programs\\Python\\Python311\\Lib\\site-packages\\sklearn\\metrics\\_classification.py:1469: UndefinedMetricWarning: Precision and F-score are ill-defined and being set to 0.0 in labels with no predicted samples. Use `zero_division` parameter to control this behavior.\n",
      "  _warn_prf(average, modifier, msg_start, len(result))\n"
     ]
    },
    {
     "name": "stdout",
     "output_type": "stream",
     "text": [
      "Model Accuracy: 0.798\n",
      "Classification Report:\n",
      "              precision    recall  f1-score   support\n",
      "\n",
      "    negative       0.00      0.00      0.00       951\n",
      "     neutral       0.00      0.00      0.00       462\n",
      "    positive       0.80      1.00      0.89      5587\n",
      "\n",
      "    accuracy                           0.80      7000\n",
      "   macro avg       0.27      0.33      0.30      7000\n",
      "weighted avg       0.64      0.80      0.71      7000\n",
      "\n"
     ]
    },
    {
     "name": "stderr",
     "output_type": "stream",
     "text": [
      "C:\\Users\\Asus ExpertBook\\AppData\\Local\\Programs\\Python\\Python311\\Lib\\site-packages\\sklearn\\metrics\\_classification.py:1469: UndefinedMetricWarning: Precision and F-score are ill-defined and being set to 0.0 in labels with no predicted samples. Use `zero_division` parameter to control this behavior.\n",
      "  _warn_prf(average, modifier, msg_start, len(result))\n"
     ]
    }
   ],
   "source": [
    "# Validate the model\n",
    "accuracy, report = validate_model(model_pipeline, X_test, y_test)\n",
    "print(\"Model Accuracy:\", accuracy)\n",
    "print(\"Classification Report:\")\n",
    "print(report)"
   ]
  },
  {
   "cell_type": "code",
   "execution_count": 21,
   "id": "f28fa7a9-02ee-4f55-902a-c06585347a0a",
   "metadata": {},
   "outputs": [
    {
     "name": "stdout",
     "output_type": "stream",
     "text": [
      "Sentiment: Unknown\n"
     ]
    }
   ],
   "source": [
    "# Example of sentiment analysis\n",
    "review_text = \"This product is baad!\"\n",
    "sentiment = sentiment_analysis(review_text)\n",
    "print(\"Sentiment:\", sentiment)"
   ]
  },
  {
   "cell_type": "code",
   "execution_count": 32,
   "id": "a7d2e3d7-ad47-4be0-a424-9b5e3af0873f",
   "metadata": {},
   "outputs": [
    {
     "name": "stdout",
     "output_type": "stream",
     "text": [
      "Sentiment: positive\n"
     ]
    }
   ],
   "source": [
    "# Example of sentiment analysis\n",
    "review_text = \"This product is !\"\n",
    "sentiment = sentiment_analysis(review_text)\n",
    "print(\"Sentiment:\", sentiment)"
   ]
  },
  {
   "cell_type": "code",
   "execution_count": 33,
   "id": "140dead8-5aba-469c-be01-6c1d2745ad63",
   "metadata": {},
   "outputs": [],
   "source": [
    "# Common questions and associated keywords for each topic\n",
    "common_questions = {\n",
    "    \"product_experience\": [\"product\", \"experience\", \"quality\", \"time\", \"great\", \"amazon\", \"set\"],\n",
    "    \"alexa_devices\": [\"alexa\", \"echo\", \"echo_dot\", \"music\", \"device\", \"use\", \"loved\"],\n",
    "    \"book_reviews\": [\"book\", \"read\", \"story\", \"michelle_obama\", \"life\", \"family\", \"first_lady\"],\n",
    "    \"product_appreciation\": [\"great\", \"good\", \"love\", \"like\", \"price\", \"flavor\", \"bottle\"],\n",
    "    \"positive_feedback\": [\"good\", \"like\", \"nice\", \"great\", \"well\", \"masks\", \"mask\", \"big\"]\n",
    "}"
   ]
  },
  {
   "cell_type": "code",
   "execution_count": 34,
   "id": "eea558dd-9cd5-445b-9c39-fe5118c37759",
   "metadata": {},
   "outputs": [],
   "source": [
    "import re\n",
    "\n",
    "def search_reviews(question, reviews):\n",
    "    relevant_sentences = []\n",
    "    for review in reviews:\n",
    "        for sentence in review.split(\".\"):\n",
    "            if re.search(r'\\b(?:{})\\b'.format('|'.join(common_questions[question])), sentence.lower()):\n",
    "                relevant_sentences.append(sentence.strip())\n",
    "    return relevant_sentences\n"
   ]
  },
  {
   "cell_type": "code",
   "execution_count": 35,
   "id": "0d37e336-8c44-442e-a2df-125193e0c25b",
   "metadata": {},
   "outputs": [],
   "source": [
    "def qa_system(reviews):\n",
    "    answers = {}\n",
    "    for question in common_questions:\n",
    "        answers[question] = search_reviews(question, reviews)\n",
    "    return answers\n"
   ]
  },
  {
   "cell_type": "code",
   "execution_count": 37,
   "id": "5a2a5503-a6e6-4209-8a31-2ab4f9a05f7c",
   "metadata": {},
   "outputs": [
    {
     "data": {
      "text/plain": [
       "{'durability': [], 'scent': []}"
      ]
     },
     "execution_count": 37,
     "metadata": {},
     "output_type": "execute_result"
    }
   ],
   "source": [
    "qa_system(\"What are customers saying about the product?\")"
   ]
  },
  {
   "cell_type": "code",
   "execution_count": 38,
   "id": "1c089969-d30c-4949-bc7c-3e904ca71e34",
   "metadata": {},
   "outputs": [],
   "source": [
    "# Example test data (you can replace it with your actual test data)\n",
    "test_reviews = [\n",
    "    \"The product durability is excellent. It has lasted for a long time without any issues.\",\n",
    "    \"I love using my Alexa device. It's great for playing music and controlling smart devices.\",\n",
    "    \"Michelle Obama's book 'Becoming' is a captivating story of her life and journey.\",\n",
    "    \"I'm very satisfied with the quality of the product. It's well worth the price.\",\n",
    "    \"The masks are very comfortable to wear and provide good protection.\"\n",
    "]\n"
   ]
  },
  {
   "cell_type": "code",
   "execution_count": 39,
   "id": "ec5b350a-985e-4ecd-8906-4538218c70a6",
   "metadata": {},
   "outputs": [],
   "source": [
    "\n",
    "# Call the qa_system function to retrieve relevant sentences for each question\n",
    "answers = qa_system(test_reviews)\n",
    "\n"
   ]
  },
  {
   "cell_type": "code",
   "execution_count": 40,
   "id": "3111a1d2-e87d-42d9-a3f8-ecfd5d9efa23",
   "metadata": {},
   "outputs": [
    {
     "name": "stdout",
     "output_type": "stream",
     "text": [
      "Question: durability\n",
      "Relevant Sentences:\n",
      "- The product durability is excellent\n",
      "- I'm very satisfied with the quality of the product\n",
      "\n",
      "Question: scent\n",
      "Relevant Sentences:\n",
      "\n"
     ]
    }
   ],
   "source": [
    "# Print the retrieved sentences for each question\n",
    "for question, sentences in answers.items():\n",
    "    print(f\"Question: {question}\")\n",
    "    print(\"Relevant Sentences:\")\n",
    "    for sentence in sentences:\n",
    "        print(\"-\", sentence)\n",
    "    print()\n"
   ]
  },
  {
   "cell_type": "code",
   "execution_count": null,
   "id": "72aff7ea-3b50-4e08-bd5e-428ffe5e2088",
   "metadata": {},
   "outputs": [],
   "source": []
  }
 ],
 "metadata": {
  "kernelspec": {
   "display_name": "Python 3 (ipykernel)",
   "language": "python",
   "name": "python3"
  },
  "language_info": {
   "codemirror_mode": {
    "name": "ipython",
    "version": 3
   },
   "file_extension": ".py",
   "mimetype": "text/x-python",
   "name": "python",
   "nbconvert_exporter": "python",
   "pygments_lexer": "ipython3",
   "version": "3.11.3"
  }
 },
 "nbformat": 4,
 "nbformat_minor": 5
}
